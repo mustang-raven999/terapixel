{
 "cells": [
  {
   "cell_type": "code",
   "execution_count": null,
   "id": "1b18d155",
   "metadata": {},
   "outputs": [],
   "source": [
    "import pandas as pd\n",
    "# from pandasql import sqldf\n",
    "import numpy as np\n",
    "import matplotlib.pyplot as plt\n",
    "import seaborn as sns\n",
    "import datetime\n",
    "from matplotlib import pyplot\n",
    "from pandas import Series\n",
    "from datetime import datetime\n",
    "import statistics"
   ]
  },
  {
   "cell_type": "code",
   "execution_count": null,
   "id": "52b76f28",
   "metadata": {},
   "outputs": [],
   "source": [
    "app_check = pd.read_csv(\"application-checkpoints.csv\")\n",
    "gpu = pd.read_csv(\"gpu.csv\")\n",
    "taskxy = pd.read_csv(\"task-x-y.csv\")"
   ]
  },
  {
   "cell_type": "raw",
   "id": "4f40b190",
   "metadata": {},
   "source": [
    "#Cloud Computing\n",
    "fflkwenfklwef\n",
    "fnkqjnfiiqisdfss\n",
    "qwbnfklnfwenflkwe\n",
    "qkfqlkjnflkwelf\n",
    "fnjksnflwqnfqeefq\n",
    "wbjkbclkqmfwqe;mflkqenfjbwqefbkqemnfliwehofiwepfiwrhg;wrhgeoi"
   ]
  },
  {
   "cell_type": "code",
   "execution_count": null,
   "id": "0c6b63d1",
   "metadata": {},
   "outputs": [],
   "source": [
    "app_taskxy = pd.merge(taskxy, app_check, on = ['jobId', 'taskId'], how='left')\n",
    "app_taskxy_gpu = pd.merge(app_taskxy, gpu, on=['timestamp'])\n"
   ]
  },
  {
   "cell_type": "code",
   "execution_count": null,
   "id": "f232fbb4",
   "metadata": {},
   "outputs": [],
   "source": [
    "app_taskxy_gpu.head()"
   ]
  }
 ],
 "metadata": {
  "hide_input": true,
  "kernelspec": {
   "display_name": "Python 3 (ipykernel)",
   "language": "python",
   "name": "python3"
  },
  "language_info": {
   "codemirror_mode": {
    "name": "ipython",
    "version": 3
   },
   "file_extension": ".py",
   "mimetype": "text/x-python",
   "name": "python",
   "nbconvert_exporter": "python",
   "pygments_lexer": "ipython3",
   "version": "3.9.13"
  }
 },
 "nbformat": 4,
 "nbformat_minor": 5
}
